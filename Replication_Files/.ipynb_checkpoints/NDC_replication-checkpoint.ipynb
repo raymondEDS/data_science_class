{
 "cells": [
  {
   "cell_type": "code",
   "execution_count": 25,
   "id": "218b3148",
   "metadata": {},
   "outputs": [],
   "source": [
    "import numpy as np\n",
    "import pandas as pd\n",
    "import scipy.stats as stats\n",
    "import matplotlib.pyplot as plt\n",
    "import sklearn\n",
    "from nltk.tokenize import word_tokenize\n",
    "import statsmodels.api as sm\n",
    "from statsmodels.formula.api import ols\n",
    "from ISLP.models import (ModelSpec as MS,\n",
    "                         summarize)\n",
    "from sklearn.preprocessing import LabelEncoder, StandardScaler\n",
    "from sklearn.manifold import TSNE\n",
    "import seaborn as sns\n",
    "sns.set_style(\"whitegrid\")\n",
    "sns.set_context(\"poster\")\n",
    "\n",
    "from ipywidgets import IntProgress\n",
    "from IPython.display import display\n",
    "\n",
    "# special matplotlib argument for improved plots\n",
    "from matplotlib import rcParams"
   ]
  },
  {
   "cell_type": "code",
   "execution_count": 5,
   "id": "0d72f488",
   "metadata": {},
   "outputs": [],
   "source": [
    "def regression_graph(y,x,df,title):\n",
    "\n",
    "    # Set the aesthetic style of the plots\n",
    "    sns.set(style=\"whitegrid\")\n",
    "\n",
    "    # Create a regression plot\n",
    "    plt.figure(figsize=(10, 6))\n",
    "    sns.regplot(y=y, x=x, data=df, fit_reg=True, \n",
    "                scatter_kws={'s': 50, 'alpha': 0.6, 'color': 'b'}, \n",
    "                line_kws={'color': 'red', 'linewidth': 2})\n",
    "\n",
    "    # Customize the plot with titles and labels\n",
    "    plt.title(title, fontsize=20)\n",
    "\n",
    "    # Customize the ticks on the axes\n",
    "    plt.xticks(fontsize=12)\n",
    "    plt.yticks(fontsize=12)\n",
    "\n",
    "    # Show grid\n",
    "    plt.grid(True, linestyle='--', alpha=0.7)\n",
    "\n",
    "    # Show the plot\n",
    "    plt.show()"
   ]
  },
  {
   "cell_type": "markdown",
   "id": "6bc27f84",
   "metadata": {},
   "source": [
    "# Import Data"
   ]
  },
  {
   "cell_type": "code",
   "execution_count": 6,
   "id": "2c9647ee",
   "metadata": {},
   "outputs": [],
   "source": [
    "df_model = pd.read_csv('../data/model_data.csv')\n",
    "df_ndc = pd.read_csv('../data/ndc_files.csv')"
   ]
  },
  {
   "cell_type": "markdown",
   "id": "3083cabc",
   "metadata": {},
   "source": [
    "# Exploratory Data Analysis\n",
    "* Table 1 \n",
    "* Table 2\n",
    "* Figure 1"
   ]
  },
  {
   "cell_type": "code",
   "execution_count": null,
   "id": "cb041ecb",
   "metadata": {},
   "outputs": [],
   "source": [
    "print(df_model.describe().to_latex())"
   ]
  },
  {
   "cell_type": "code",
   "execution_count": null,
   "id": "5e7c6c3f",
   "metadata": {},
   "outputs": [],
   "source": [
    "print(df_model.corr(numeric_only=True).to_latex())"
   ]
  },
  {
   "cell_type": "code",
   "execution_count": null,
   "id": "aff50f7e",
   "metadata": {},
   "outputs": [],
   "source": [
    "fig, axes = plt.subplots(nrows=3, ncols=3, figsize=(25, 10), squeeze=False)\n",
    "\n",
    "# Flatten axes array for easy iteration\n",
    "axes = axes.flatten()\n",
    "\n",
    "# Plot histograms and set titles and labels\n",
    "for i, col in enumerate(df_model[['population', 'income', 'democracy', 'health_expenditure',\n",
    "       'coal_rents', 'temperature_change', 'air_pollution']].columns):\n",
    "    df_model[col].plot.hist(ax=axes[i], alpha=0.7, bins=20)\n",
    "    axes[i].set_title(f'Histogram of {col}')\n",
    "    axes[i].set_xlabel(f'Value of {col}')\n",
    "    axes[i].set_ylabel('Frequency')\n",
    "\n",
    "# Adjust layout\n",
    "plt.tight_layout()\n",
    "plt.show()"
   ]
  },
  {
   "cell_type": "markdown",
   "id": "efcc5407",
   "metadata": {},
   "source": [
    "# Univariate Regression"
   ]
  },
  {
   "cell_type": "code",
   "execution_count": 7,
   "id": "d69d4868",
   "metadata": {},
   "outputs": [
    {
     "name": "stderr",
     "output_type": "stream",
     "text": [
      "/opt/anaconda3/envs/nlp/lib/python3.10/site-packages/patsy/util.py:672: FutureWarning: is_categorical_dtype is deprecated and will be removed in a future version. Use isinstance(dtype, CategoricalDtype) instead\n",
      "  return _pandas_is_categorical_dtype(dt)\n",
      "/opt/anaconda3/envs/nlp/lib/python3.10/site-packages/patsy/util.py:672: FutureWarning: is_categorical_dtype is deprecated and will be removed in a future version. Use isinstance(dtype, CategoricalDtype) instead\n",
      "  return _pandas_is_categorical_dtype(dt)\n",
      "/opt/anaconda3/envs/nlp/lib/python3.10/site-packages/patsy/util.py:672: FutureWarning: is_categorical_dtype is deprecated and will be removed in a future version. Use isinstance(dtype, CategoricalDtype) instead\n",
      "  return _pandas_is_categorical_dtype(dt)\n"
     ]
    },
    {
     "data": {
      "text/html": [
       "<table class=\"simpletable\">\n",
       "<caption>OLS Regression Results</caption>\n",
       "<tr>\n",
       "  <th>Dep. Variable:</th>         <td>income</td>      <th>  R-squared:         </th> <td>   0.138</td>\n",
       "</tr>\n",
       "<tr>\n",
       "  <th>Model:</th>                   <td>OLS</td>       <th>  Adj. R-squared:    </th> <td>   0.133</td>\n",
       "</tr>\n",
       "<tr>\n",
       "  <th>Method:</th>             <td>Least Squares</td>  <th>  F-statistic:       </th> <td>   27.66</td>\n",
       "</tr>\n",
       "<tr>\n",
       "  <th>Date:</th>             <td>Sat, 03 Aug 2024</td> <th>  Prob (F-statistic):</th> <td>4.23e-07</td>\n",
       "</tr>\n",
       "<tr>\n",
       "  <th>Time:</th>                 <td>09:44:21</td>     <th>  Log-Likelihood:    </th> <td> -303.01</td>\n",
       "</tr>\n",
       "<tr>\n",
       "  <th>No. Observations:</th>      <td>   175</td>      <th>  AIC:               </th> <td>   610.0</td>\n",
       "</tr>\n",
       "<tr>\n",
       "  <th>Df Residuals:</th>          <td>   173</td>      <th>  BIC:               </th> <td>   616.4</td>\n",
       "</tr>\n",
       "<tr>\n",
       "  <th>Df Model:</th>              <td>     1</td>      <th>                     </th>     <td> </td>   \n",
       "</tr>\n",
       "<tr>\n",
       "  <th>Covariance Type:</th>      <td>nonrobust</td>    <th>                     </th>     <td> </td>   \n",
       "</tr>\n",
       "</table>\n",
       "<table class=\"simpletable\">\n",
       "<tr>\n",
       "        <td></td>           <th>coef</th>     <th>std err</th>      <th>t</th>      <th>P>|t|</th>  <th>[0.025</th>    <th>0.975]</th>  \n",
       "</tr>\n",
       "<tr>\n",
       "  <th>Intercept</th>     <td>    9.4055</td> <td>    0.185</td> <td>   50.750</td> <td> 0.000</td> <td>    9.040</td> <td>    9.771</td>\n",
       "</tr>\n",
       "<tr>\n",
       "  <th>air_pollution</th> <td>   -0.0332</td> <td>    0.006</td> <td>   -5.259</td> <td> 0.000</td> <td>   -0.046</td> <td>   -0.021</td>\n",
       "</tr>\n",
       "</table>\n",
       "<table class=\"simpletable\">\n",
       "<tr>\n",
       "  <th>Omnibus:</th>       <td> 1.500</td> <th>  Durbin-Watson:     </th> <td>   1.715</td>\n",
       "</tr>\n",
       "<tr>\n",
       "  <th>Prob(Omnibus):</th> <td> 0.472</td> <th>  Jarque-Bera (JB):  </th> <td>   1.156</td>\n",
       "</tr>\n",
       "<tr>\n",
       "  <th>Skew:</th>          <td> 0.051</td> <th>  Prob(JB):          </th> <td>   0.561</td>\n",
       "</tr>\n",
       "<tr>\n",
       "  <th>Kurtosis:</th>      <td> 3.385</td> <th>  Cond. No.          </th> <td>    52.3</td>\n",
       "</tr>\n",
       "</table><br/><br/>Notes:<br/>[1] Standard Errors assume that the covariance matrix of the errors is correctly specified."
      ],
      "text/plain": [
       "<class 'statsmodels.iolib.summary.Summary'>\n",
       "\"\"\"\n",
       "                            OLS Regression Results                            \n",
       "==============================================================================\n",
       "Dep. Variable:                 income   R-squared:                       0.138\n",
       "Model:                            OLS   Adj. R-squared:                  0.133\n",
       "Method:                 Least Squares   F-statistic:                     27.66\n",
       "Date:                Sat, 03 Aug 2024   Prob (F-statistic):           4.23e-07\n",
       "Time:                        09:44:21   Log-Likelihood:                -303.01\n",
       "No. Observations:                 175   AIC:                             610.0\n",
       "Df Residuals:                     173   BIC:                             616.4\n",
       "Df Model:                           1                                         \n",
       "Covariance Type:            nonrobust                                         \n",
       "=================================================================================\n",
       "                    coef    std err          t      P>|t|      [0.025      0.975]\n",
       "---------------------------------------------------------------------------------\n",
       "Intercept         9.4055      0.185     50.750      0.000       9.040       9.771\n",
       "air_pollution    -0.0332      0.006     -5.259      0.000      -0.046      -0.021\n",
       "==============================================================================\n",
       "Omnibus:                        1.500   Durbin-Watson:                   1.715\n",
       "Prob(Omnibus):                  0.472   Jarque-Bera (JB):                1.156\n",
       "Skew:                           0.051   Prob(JB):                        0.561\n",
       "Kurtosis:                       3.385   Cond. No.                         52.3\n",
       "==============================================================================\n",
       "\n",
       "Notes:\n",
       "[1] Standard Errors assume that the covariance matrix of the errors is correctly specified.\n",
       "\"\"\""
      ]
     },
     "execution_count": 7,
     "metadata": {},
     "output_type": "execute_result"
    }
   ],
   "source": [
    "m = ols('income ~ air_pollution',df_model).fit()\n",
    "m.summary()"
   ]
  },
  {
   "cell_type": "code",
   "execution_count": null,
   "id": "e613a3aa",
   "metadata": {},
   "outputs": [],
   "source": [
    "regression_graph('income','air_pollution',df_model,'Income vs Air Pollution')"
   ]
  },
  {
   "cell_type": "markdown",
   "id": "b229f113",
   "metadata": {},
   "source": [
    "# Run Additional Analysis:\n",
    "* Air Pollution and Democracy\n",
    "* Income and Democracy"
   ]
  },
  {
   "cell_type": "code",
   "execution_count": null,
   "id": "c8339311",
   "metadata": {},
   "outputs": [],
   "source": []
  },
  {
   "cell_type": "code",
   "execution_count": null,
   "id": "c13fbb2a",
   "metadata": {},
   "outputs": [],
   "source": []
  },
  {
   "cell_type": "code",
   "execution_count": null,
   "id": "2b746053",
   "metadata": {},
   "outputs": [],
   "source": []
  },
  {
   "cell_type": "code",
   "execution_count": null,
   "id": "2280061c",
   "metadata": {},
   "outputs": [],
   "source": []
  },
  {
   "cell_type": "markdown",
   "id": "b4f295b8",
   "metadata": {},
   "source": [
    "# Logistic Regression"
   ]
  },
  {
   "cell_type": "code",
   "execution_count": 11,
   "id": "4e69a65b",
   "metadata": {},
   "outputs": [
    {
     "data": {
      "text/html": [
       "<div>\n",
       "<style scoped>\n",
       "    .dataframe tbody tr th:only-of-type {\n",
       "        vertical-align: middle;\n",
       "    }\n",
       "\n",
       "    .dataframe tbody tr th {\n",
       "        vertical-align: top;\n",
       "    }\n",
       "\n",
       "    .dataframe thead th {\n",
       "        text-align: right;\n",
       "    }\n",
       "</style>\n",
       "<table border=\"1\" class=\"dataframe\">\n",
       "  <thead>\n",
       "    <tr style=\"text-align: right;\">\n",
       "      <th></th>\n",
       "      <th>coef</th>\n",
       "      <th>std err</th>\n",
       "      <th>z</th>\n",
       "      <th>P&gt;|z|</th>\n",
       "    </tr>\n",
       "  </thead>\n",
       "  <tbody>\n",
       "    <tr>\n",
       "      <th>intercept</th>\n",
       "      <td>-13.4285</td>\n",
       "      <td>3.625</td>\n",
       "      <td>-3.705</td>\n",
       "      <td>0.000</td>\n",
       "    </tr>\n",
       "    <tr>\n",
       "      <th>population</th>\n",
       "      <td>0.2423</td>\n",
       "      <td>0.123</td>\n",
       "      <td>1.972</td>\n",
       "      <td>0.049</td>\n",
       "    </tr>\n",
       "    <tr>\n",
       "      <th>income</th>\n",
       "      <td>1.0149</td>\n",
       "      <td>0.272</td>\n",
       "      <td>3.728</td>\n",
       "      <td>0.000</td>\n",
       "    </tr>\n",
       "    <tr>\n",
       "      <th>air_pollution</th>\n",
       "      <td>-0.0804</td>\n",
       "      <td>0.040</td>\n",
       "      <td>-1.993</td>\n",
       "      <td>0.046</td>\n",
       "    </tr>\n",
       "  </tbody>\n",
       "</table>\n",
       "</div>"
      ],
      "text/plain": [
       "                  coef  std err      z  P>|z|\n",
       "intercept     -13.4285    3.625 -3.705  0.000\n",
       "population      0.2423    0.123  1.972  0.049\n",
       "income          1.0149    0.272  3.728  0.000\n",
       "air_pollution  -0.0804    0.040 -1.993  0.046"
      ]
     },
     "execution_count": 11,
     "metadata": {},
     "output_type": "execute_result"
    }
   ],
   "source": [
    "allvars = df_model[['population', 'income','air_pollution']]\n",
    "design = MS(allvars)\n",
    "X = design.fit_transform(allvars).astype(float)\n",
    "y = df_model.eu == 'EU'\n",
    "glm = sm.GLM(y,\n",
    "             X,\n",
    "             family=sm.families.Binomial())\n",
    "results = glm.fit()\n",
    "summarize(results)"
   ]
  },
  {
   "cell_type": "markdown",
   "id": "57d64e9c",
   "metadata": {},
   "source": [
    "# T-SNE"
   ]
  },
  {
   "cell_type": "code",
   "execution_count": null,
   "id": "aaff4ed0",
   "metadata": {},
   "outputs": [],
   "source": [
    "# Convert categorical variable 'decision' to numerical\n",
    "le = LabelEncoder()\n",
    "df_model['eu_num'] = le.fit_transform(df_model['eu'])\n",
    "df_model = df_model.dropna()\n",
    "\n",
    "# Features to be used in t-SNE\n",
    "features = ['population', 'income', 'democracy', 'health_expenditure',\n",
    "       'coal_rents', 'temperature_change', 'air_pollution','total_sentences', 'total_words',\n",
    "       'health_percent' ]\n",
    "X = df_model[features].dropna()\n",
    "\n",
    "# Scale the features\n",
    "scaler = StandardScaler()\n",
    "X_scaled = scaler.fit_transform(X)\n",
    "\n",
    "# Apply t-SNE\n",
    "tsne = TSNE(n_components=2, random_state=42)\n",
    "X_tsne = tsne.fit_transform(X_scaled)\n",
    "\n",
    "# Add t-SNE results to the DataFrame\n",
    "df_model['tsne-2d-one'] = X_tsne[:, 0]\n",
    "df_model['tsne-2d-two'] = X_tsne[:, 1]\n",
    "\n",
    "# Define a custom color palette with 5 colors\n",
    "custom_palette = sns.color_palette('husl', 5)\n",
    "\n",
    "# Plot t-SNE results\n",
    "plt.figure(figsize=(10, 6))\n",
    "sns.scatterplot(\n",
    "    x='tsne-2d-one', y='tsne-2d-two',\n",
    "    hue='eu',\n",
    "    palette=custom_palette,\n",
    "    data=df_model,\n",
    "    alpha=0.8\n",
    ")\n",
    "plt.title('t-SNE of NDC Countries')\n",
    "plt.xlabel('t-SNE EU 1')\n",
    "plt.ylabel('t-SNE EU 2')\n",
    "plt.legend(title='EU Countries', bbox_to_anchor=(1.05, 1), loc='upper left')\n",
    "plt.show()"
   ]
  },
  {
   "cell_type": "markdown",
   "id": "3325bf21",
   "metadata": {},
   "source": [
    "# Deep Learning Sentiment Analysis"
   ]
  },
  {
   "cell_type": "code",
   "execution_count": 18,
   "id": "e4e8c5fc",
   "metadata": {},
   "outputs": [
    {
     "name": "stderr",
     "output_type": "stream",
     "text": [
      "Some weights of the model checkpoint at cardiffnlp/twitter-roberta-base-sentiment-latest were not used when initializing RobertaForSequenceClassification: ['roberta.pooler.dense.weight', 'roberta.pooler.dense.bias']\n",
      "- This IS expected if you are initializing RobertaForSequenceClassification from the checkpoint of a model trained on another task or with another architecture (e.g. initializing a BertForSequenceClassification model from a BertForPreTraining model).\n",
      "- This IS NOT expected if you are initializing RobertaForSequenceClassification from the checkpoint of a model that you expect to be exactly identical (initializing a BertForSequenceClassification model from a BertForSequenceClassification model).\n"
     ]
    }
   ],
   "source": [
    "from transformers import pipeline\n",
    "from transformers import AutoTokenizer\n",
    "\n",
    "# Step 3: Load the pre-trained model and tokenizer\n",
    "sentiment_analysis = pipeline(\"sentiment-analysis\", model=\"cardiffnlp/twitter-roberta-base-sentiment-latest\")\n",
    "tokenizer = AutoTokenizer.from_pretrained(\"cardiffnlp/twitter-roberta-base-sentiment-latest\")\n"
   ]
  },
  {
   "cell_type": "code",
   "execution_count": 23,
   "id": "5bff41f0",
   "metadata": {},
   "outputs": [],
   "source": [
    "\n",
    "# Define a function to split the text into chunks\n",
    "def split_text_into_chunks(text, tokenizer, max_length):\n",
    "    tokens = tokenizer.tokenize(text)\n",
    "    chunks = []\n",
    "    current_chunk = []\n",
    "    current_length = 0\n",
    "\n",
    "    for token in tokens:\n",
    "        if current_length + len(token) > max_length:\n",
    "            chunks.append(\" \".join(current_chunk))\n",
    "            current_chunk = []\n",
    "            current_length = 0\n",
    "        current_chunk.append(token)\n",
    "        current_length += len(token)\n",
    "    \n",
    "    if current_chunk:\n",
    "        chunks.append(\" \".join(current_chunk))\n",
    "    \n",
    "    return chunks\n",
    "\n",
    "# Define a function to perform sentiment analysis on the entire text\n",
    "def analyze_sentiment(text, tokenizer, sentiment_analysis, max_length):\n",
    "    chunks = split_text_into_chunks(text, tokenizer, max_length)\n",
    "    results = []\n",
    "    \n",
    "    for chunk in chunks:\n",
    "        result = sentiment_analysis(chunk)\n",
    "        results.extend(result)\n",
    "    \n",
    "    return results\n",
    "\n",
    "# Example usage\n",
    "text = \"Your long text goes here...\"\n",
    "\n",
    "# The max_length for the tokenizer\n",
    "max_length = 514\n",
    "\n",
    "\n",
    "def ave_sent(sent_results):\n",
    "    \n",
    "    l_sent = []\n",
    "    for i, result in enumerate(sent_results):\n",
    "        \n",
    "        l_sent.append(result['score'])\n",
    "    \n",
    "    return sum(l_sent)/len(l_sent)\n",
    "\n",
    "def get_sentiment_result(text):\n",
    "    sentiment_results = analyze_sentiment(text, tokenizer, sentiment_analysis, max_length=514)\n",
    "    ave_sent_result = ave_sent(sentiment_results)\n",
    "\n",
    "    return ave_sent_result    "
   ]
  },
  {
   "cell_type": "code",
   "execution_count": null,
   "id": "4c328ef7",
   "metadata": {},
   "outputs": [
    {
     "name": "stdout",
     "output_type": "stream",
     "text": [
      "huggingface/tokenizers: The current process just got forked, after parallelism has already been used. Disabling parallelism to avoid deadlocks...\n",
      "To disable this warning, you can either:\n",
      "\t- Avoid using `tokenizers` before the fork if possible\n",
      "\t- Explicitly set the environment variable TOKENIZERS_PARALLELISM=(true | false)\n"
     ]
    },
    {
     "data": {
      "application/vnd.jupyter.widget-view+json": {
       "model_id": "9c6358f2db1f4b9c8471f2a7182a566e",
       "version_major": 2,
       "version_minor": 0
      },
      "text/plain": [
       "  0%|          | 0/158 [00:00<?, ?it/s]"
      ]
     },
     "metadata": {},
     "output_type": "display_data"
    }
   ],
   "source": [
    "from tqdm.notebook import tqdm\n",
    "tqdm.pandas()\n",
    "df_ndc['sentiment'] = df_ndc['text'].progress_apply(get_sentiment_result)"
   ]
  },
  {
   "cell_type": "code",
   "execution_count": null,
   "id": "9d87bea2",
   "metadata": {},
   "outputs": [],
   "source": []
  }
 ],
 "metadata": {
  "kernelspec": {
   "display_name": "Python 3 (ipykernel)",
   "language": "python",
   "name": "python3"
  },
  "language_info": {
   "codemirror_mode": {
    "name": "ipython",
    "version": 3
   },
   "file_extension": ".py",
   "mimetype": "text/x-python",
   "name": "python",
   "nbconvert_exporter": "python",
   "pygments_lexer": "ipython3",
   "version": "3.10.4"
  }
 },
 "nbformat": 4,
 "nbformat_minor": 5
}
