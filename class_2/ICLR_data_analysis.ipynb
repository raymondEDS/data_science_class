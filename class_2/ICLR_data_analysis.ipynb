{
 "cells": [
  {
   "cell_type": "code",
   "execution_count": null,
   "metadata": {
    "executionInfo": {
     "elapsed": 5712,
     "status": "ok",
     "timestamp": 1716443897661,
     "user": {
      "displayName": "Raymond Zhang",
      "userId": "05735583802406577666"
     },
     "user_tz": 420
    },
    "id": "_KtU3AMtBgKs"
   },
   "outputs": [],
   "source": [
    "import pandas as pd\n",
    "import numpy as np\n",
    "\n",
    "\n",
    "import matplotlib.pyplot as plt\n",
    "from matplotlib.patches import Patch\n",
    "from matplotlib.lines import Line2D\n",
    "import seaborn as sns"
   ]
  },
  {
   "cell_type": "markdown",
   "metadata": {
    "id": "74FI8VrTB14w"
   },
   "source": [
    "# Problem 1 Load the Data\n",
    "\n",
    "Read the data in:\n",
    "\n",
    "Given that the link to the data is here:\n",
    "https://raw.githubusercontent.com/raymondEDS/VRM-E/main/data/raw/df_submission_rating.csv\n",
    "\n",
    "Load the data into a dataframe\n",
    "\n",
    "Hint - https://pandas.pydata.org/docs/reference/api/pandas.read_csv.html"
   ]
  },
  {
   "cell_type": "code",
   "execution_count": null,
   "metadata": {
    "colab": {
     "base_uri": "https://localhost:8080/",
     "height": 144
    },
    "executionInfo": {
     "elapsed": 8,
     "status": "error",
     "timestamp": 1716443889125,
     "user": {
      "displayName": "Raymond Zhang",
      "userId": "05735583802406577666"
     },
     "user_tz": 420
    },
    "id": "nSkJZcRmBums",
    "outputId": "30d42704-9518-4323-8af5-6799f1dbb21e"
   },
   "outputs": [],
   "source": [
    "df_ICLR = pd.read_csv('https://raw.githubusercontent.com/raymondEDS/VRM-E/main/data/raw/df_submission_rating.csv')"
   ]
  },
  {
   "cell_type": "markdown",
   "metadata": {
    "id": "12y2IGThCW7t"
   },
   "source": [
    "# Problem 2 understand the data?\n",
    "\n",
    "Check what is the shape of the dataframe?\n",
    "\n",
    "How many rows of data are there?\n",
    "\n",
    "How many columns?\n",
    "\n",
    "What columns are you interested in?\n",
    "\n",
    "Run df.info() to determine any additional information you need."
   ]
  },
  {
   "cell_type": "code",
   "execution_count": null,
   "metadata": {},
   "outputs": [],
   "source": [
    "df_ICLR.head()"
   ]
  },
  {
   "cell_type": "code",
   "execution_count": null,
   "metadata": {},
   "outputs": [],
   "source": [
    "df_ICLR.describe()"
   ]
  },
  {
   "cell_type": "code",
   "execution_count": null,
   "metadata": {
    "id": "j4oQKu_iCt3D"
   },
   "outputs": [],
   "source": [
    "df_ICLR.shape"
   ]
  },
  {
   "cell_type": "code",
   "execution_count": null,
   "metadata": {},
   "outputs": [],
   "source": [
    "df_ICLR.columns"
   ]
  },
  {
   "cell_type": "code",
   "execution_count": null,
   "metadata": {},
   "outputs": [],
   "source": [
    "df_ICLR.info()"
   ]
  },
  {
   "cell_type": "markdown",
   "metadata": {
    "id": "CMLsvP9mC_Gq"
   },
   "source": [
    "# Problem 3 Make a Histogram\n",
    "\n",
    "Make a histogram of the distribution of ratings by conf_year.\n",
    "\n",
    "Hint - This is the same as \"Multiple Histograms\" section in the lab\n",
    "\n",
    "What does this analysis say about the conference?"
   ]
  },
  {
   "cell_type": "code",
   "execution_count": null,
   "metadata": {
    "id": "5UwpWSEAEPtq"
   },
   "outputs": [],
   "source": [
    "fig, ax = plt.subplots()\n",
    "\n",
    "\n",
    "# Calculate the averages for 2017 and 2018\n",
    "avg_rating_2017 = df_ICLR[df_ICLR[\"conf_year\"] == 2017][\"AVG_rating\"].mean()\n",
    "avg_rating_2018 = df_ICLR[df_ICLR[\"conf_year\"] == 2018][\"AVG_rating\"].mean()\n",
    "\n",
    "\n",
    "\n",
    "ax.hist(df_ICLR[df_ICLR[\"conf_year\"]==2017][\"AVG_rating\"], bins=10, alpha=0.5, color=\"blue\", label=\"2017\")\n",
    "ax.hist(df_ICLR[df_ICLR[\"conf_year\"]==2018][\"AVG_rating\"], bins=10, alpha=0.5, color=\"green\", label=\"2018\")\n",
    "\n",
    "# Add vertical lines for the averages\n",
    "ax.axvline(avg_rating_2017, color='blue', linestyle='dashed', linewidth=1, label=f'2017 Mean: {avg_rating_2017:.2f}')\n",
    "ax.axvline(avg_rating_2018, color='green', linestyle='dashed', linewidth=1, label=f'2018 Mean: {avg_rating_2018:.2f}')\n",
    "\n",
    "\n",
    "ax.set_xlabel(\"Average Rating of Conference Submission\")\n",
    "ax.set_ylabel(\"Count of Rating\")\n",
    "\n",
    "fig.suptitle(\"Rating Count By Conference Year for ICLR\")\n",
    "\n",
    "ax.legend();"
   ]
  },
  {
   "cell_type": "markdown",
   "metadata": {},
   "source": [
    "Write an analysis on the histogram above"
   ]
  },
  {
   "cell_type": "markdown",
   "metadata": {},
   "source": [
    "## Bonus - Sections\n",
    "\n",
    "Make an analysis about the number of submissions per conf_year"
   ]
  },
  {
   "cell_type": "markdown",
   "metadata": {
    "id": "hCwW1fY4EfZD"
   },
   "source": [
    "Make one more data visual with the data. What did you find out?"
   ]
  }
 ],
 "metadata": {
  "colab": {
   "authorship_tag": "ABX9TyN3vR/jJdVSa83TEVLLr/1L",
   "provenance": []
  },
  "kernelspec": {
   "display_name": "Python 3 (ipykernel)",
   "language": "python",
   "name": "python3"
  },
  "language_info": {
   "codemirror_mode": {
    "name": "ipython",
    "version": 3
   },
   "file_extension": ".py",
   "mimetype": "text/x-python",
   "name": "python",
   "nbconvert_exporter": "python",
   "pygments_lexer": "ipython3",
   "version": "3.10.4"
  }
 },
 "nbformat": 4,
 "nbformat_minor": 1
}
