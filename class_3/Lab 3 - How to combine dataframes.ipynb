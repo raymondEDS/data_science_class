{
 "cells": [
  {
   "cell_type": "code",
   "execution_count": null,
   "id": "9148211c",
   "metadata": {},
   "outputs": [],
   "source": [
    "import pandas as pd\n",
    "import numpy as np\n",
    "import matplotlib.pyplot as plt"
   ]
  },
  {
   "cell_type": "markdown",
   "id": "4c3a21b8",
   "metadata": {},
   "source": [
    "# Box Plot"
   ]
  },
  {
   "cell_type": "markdown",
   "id": "ad352d02",
   "metadata": {},
   "source": [
    "* Box: The box represents the interquartile range (IQR), which is the range between the first quartile (Q1 or 25th percentile) and the third quartile (Q3 or 75th percentile). The box's length depicts the spread of the middle 50% of the data.\n",
    "\n",
    "\n",
    "* Median Line: A line inside the box represents the median (Q2 or 50th percentile), which divides the data into two equal halves.\n",
    "\n",
    "\n",
    "* Whiskers: The lines extending from the box are called whiskers. They represent the minimum and maximum values within a certain range, typically 1.5 times the IQR from the box edges. Any data points beyond the whiskers are considered outliers.\n",
    "\n",
    "\n",
    "* Outliers: Outliers are data points that lie an abnormal distance from the rest of the data. They are usually plotted as individual points beyond the whiskers."
   ]
  },
  {
   "cell_type": "code",
   "execution_count": null,
   "id": "8f8805a0",
   "metadata": {},
   "outputs": [],
   "source": [
    "data"
   ]
  },
  {
   "cell_type": "code",
   "execution_count": null,
   "id": "72cf0581",
   "metadata": {},
   "outputs": [],
   "source": [
    "# Generate random data\n",
    "data = np.random.normal(0, 1, 1000)\n",
    "\n",
    "# Create a box plot\n",
    "plt.figure(figsize=(8, 6))\n",
    "plt.boxplot(data)\n",
    "plt.title(\"Box Plot Example\")\n",
    "plt.show()"
   ]
  },
  {
   "cell_type": "markdown",
   "id": "43b872c3",
   "metadata": {},
   "source": [
    "# Interpreting Box Plots\n",
    "The box plot provides a visual summary of the data's distribution, including:\n",
    "* Center: The median line represents the center of the data.\n",
    "* Spread: The box's length indicates the spread of the middle 50% of the data.\n",
    "* Skewness: If the median line is not centered within the box, the data may be skewed.\n",
    "* Outliers: Outliers are easily identifiable as individual points beyond the whiskers."
   ]
  },
  {
   "cell_type": "code",
   "execution_count": null,
   "id": "14ec47ab",
   "metadata": {},
   "outputs": [],
   "source": [
    "# Generate data for multiple groups\n",
    "group1 = np.random.normal(0, 1, 100)\n",
    "group2 = np.random.normal(2, 1, 100)\n",
    "group3 = np.random.normal(-1, 1, 100)\n",
    "\n",
    "# Create a box plot with multiple groups\n",
    "plt.figure(figsize=(10, 6))\n",
    "plt.boxplot([group1, group2, group3], patch_artist=True, labels=[\"Group 1\", \"Group 2\", \"Group 3\"])\n",
    "plt.title(\"Box Plot with Multiple Groups\")\n",
    "plt.show()"
   ]
  },
  {
   "cell_type": "code",
   "execution_count": null,
   "id": "64d713c6",
   "metadata": {},
   "outputs": [],
   "source": [
    "# Descriptive Statistics\n",
    "\n",
    "\n",
    "# Sample data\n",
    "data = {\n",
    "    'values': [12, 15, 14, 10, 8, 10, 9, 7, 13, 12, 16, 14, 15, 14, 12, 10, 9, 10, 15, 13]\n",
    "}\n",
    "\n",
    "# Create a DataFrame\n",
    "df = pd.DataFrame(data)\n",
    "\n",
    "# Calculate Measures of Central Tendency\n",
    "mean_value = df['values'].mean()\n",
    "median_value = df['values'].median()\n",
    "mode_value = df['values'].mode()[0]\n",
    "\n",
    "# Calculate Measures of Variability\n",
    "range_value = df['values'].max() - df['values'].min()\n",
    "variance_value = df['values'].var()\n",
    "std_deviation_value = df['values'].std()\n",
    "\n",
    "\n",
    "\n",
    "# Print the results\n",
    "print(f\"Mean: {mean_value}\")\n",
    "print(f\"Median: {median_value}\")\n",
    "print(f\"Mode: {mode_value}\")\n",
    "print(f\"Range: {range_value}\")\n",
    "print(f\"Variance: {variance_value}\")\n",
    "print(f\"Standard Deviation: {std_deviation_value}\")\n",
    "\n"
   ]
  },
  {
   "attachments": {
    "image.png": {
     "image/png": "[encoded data removed]"
    }
   },
   "cell_type": "markdown",
   "id": "aec24eea",
   "metadata": {},
   "source": [
    "We can calculate the standard deviation manually using the formula:\n",
    "![image.png](attachment:image.png)\n",
    "\n",
    "Measuring variability: The primary use of standard deviation is to quantify the amount of variation or dispersion present in a dataset. A low standard deviation indicates that the data points tend to be clustered closely around the mean, while a high standard deviation suggests that the data is more spread out over a wider range of values."
   ]
  },
  {
   "cell_type": "markdown",
   "id": "aba83e0b",
   "metadata": {},
   "source": [
    "# How to use Merge in Pandas"
   ]
  },
  {
   "cell_type": "markdown",
   "id": "b3eedeb3",
   "metadata": {},
   "source": [
    "In this lab, we'll learn how to merge two data frames together using different types of joins. We'll use a sample dataset of employees and their departments.\n",
    "\n",
    "https://pandas.pydata.org/docs/reference/api/pandas.merge.html"
   ]
  },
  {
   "cell_type": "code",
   "execution_count": null,
   "id": "9232b902",
   "metadata": {},
   "outputs": [],
   "source": [
    "# Create sample data frames\n",
    "employees = pd.DataFrame({'EmpID': [1, 2, 3, 4, 5],\n",
    "                           'Name': ['John', 'Jane', 'Bob', 'Alice', 'Mike'],\n",
    "                           'Age': [32, 28, 45, 37, 51]})\n",
    "\n",
    "departments = pd.DataFrame({'DeptID': [1, 2, 3, 4, 10],\n",
    "                             'DeptName': ['Sales', 'IT', 'HR', 'Finance', 'Boss'],\n",
    "                             'EmpID': [1, 3, 2, 4,6]})\n",
    "\n",
    "print('Employees:')\n",
    "print(employees)\n",
    "print('\\nDepartments:')\n",
    "print(departments)"
   ]
  },
  {
   "cell_type": "markdown",
   "id": "96a34914",
   "metadata": {},
   "source": [
    "# Inner Join\n",
    "An inner join returns a new data frame containing only the rows where the merge key values exist in both data frames."
   ]
  },
  {
   "cell_type": "code",
   "execution_count": null,
   "id": "852435a3",
   "metadata": {},
   "outputs": [],
   "source": [
    "# Perform an inner join\n",
    "merged_inner = pd.merge(employees, departments, left_on='EmpID', right_on='EmpID', how='inner')\n",
    "print('\\nInner Join:')\n",
    "print(merged_inner)"
   ]
  },
  {
   "cell_type": "markdown",
   "id": "d5cab8b7",
   "metadata": {},
   "source": [
    "# Left Join\n",
    "A left join returns a new data frame containing all rows from the left data frame and only the matching rows from the right data frame. Non-matching rows in the right data frame will have NaN values."
   ]
  },
  {
   "cell_type": "code",
   "execution_count": null,
   "id": "9df8dbf8",
   "metadata": {},
   "outputs": [],
   "source": [
    "# Perform a left join\n",
    "merged_left = pd.merge(employees, departments, left_on='EmpID', right_on='EmpID', how='left')\n",
    "print('\\nLeft Join:')\n",
    "print(merged_left)"
   ]
  },
  {
   "cell_type": "markdown",
   "id": "37960b04",
   "metadata": {},
   "source": [
    "# Right Join\n",
    "A right join is the opposite of a left join. It returns a new data frame containing all rows from the right data frame and only the matching rows from the left data frame. Non-matching rows in the left data frame will have NaN values."
   ]
  },
  {
   "cell_type": "code",
   "execution_count": null,
   "id": "ceb2d50f",
   "metadata": {},
   "outputs": [],
   "source": [
    "# Perform a right join\n",
    "merged_right = pd.merge(employees, departments, left_on='EmpID', right_on='EmpID', how='right')\n",
    "print('\\nRight Join:')\n",
    "print(merged_right)"
   ]
  },
  {
   "cell_type": "markdown",
   "id": "d535594b",
   "metadata": {},
   "source": [
    "# Outer Join\n",
    "An outer join returns a new data frame containing all rows from both data frames, combining rows with matching merge key values and filling in NaN for non-matching rows."
   ]
  },
  {
   "cell_type": "code",
   "execution_count": null,
   "id": "9bf748ad",
   "metadata": {},
   "outputs": [],
   "source": [
    "# Perform an outer join\n",
    "merged_outer = pd.merge(employees, departments, left_on='EmpID', right_on='EmpID', how='outer')\n",
    "print('\\nOuter Join:')\n",
    "print(merged_outer)"
   ]
  },
  {
   "cell_type": "markdown",
   "id": "df7115af",
   "metadata": {},
   "source": [
    "# Lab"
   ]
  },
  {
   "cell_type": "code",
   "execution_count": null,
   "id": "08cddb52",
   "metadata": {},
   "outputs": [],
   "source": [
    "df_reviews = pd.read_csv('../data/reviews.csv')\n",
    "df_submissions = pd.read_csv('../data/Submissions.csv')\n",
    "\n",
    "df_combined = pd.read_csv('https://raw.githubusercontent.com/raymondEDS/VRM-E/main/data/raw/df_submission_rating.csv')"
   ]
  },
  {
   "cell_type": "code",
   "execution_count": null,
   "id": "c02505fd",
   "metadata": {},
   "outputs": [],
   "source": [
    "df_reviews.head()"
   ]
  },
  {
   "cell_type": "code",
   "execution_count": null,
   "id": "0c9698d8",
   "metadata": {},
   "outputs": [],
   "source": [
    "df_average_review_score = df_reviews.groupby('forum')['rating_int'].mean()\n",
    "df_average_review_score"
   ]
  },
  {
   "cell_type": "code",
   "execution_count": null,
   "id": "7ae760fe",
   "metadata": {},
   "outputs": [],
   "source": [
    "df_average_review_score = df_average_review_score.reset_index()\n",
    "df_average_review_score"
   ]
  },
  {
   "cell_type": "code",
   "execution_count": null,
   "id": "fba7c701",
   "metadata": {},
   "outputs": [],
   "source": [
    "df_submission_score = pd.merge(df_submissions, df_average_review_score, left_on='id', right_on='forum', how = 'inner')\n",
    "df_submission_score"
   ]
  },
  {
   "cell_type": "code",
   "execution_count": null,
   "id": "3f3912ed",
   "metadata": {},
   "outputs": [],
   "source": [
    "df_new = df_submission_score.groupby('conf_year')['rating_int'].mean().reset_index()"
   ]
  },
  {
   "cell_type": "code",
   "execution_count": null,
   "id": "1115af46",
   "metadata": {},
   "outputs": [],
   "source": [
    "df_new"
   ]
  },
  {
   "cell_type": "code",
   "execution_count": null,
   "id": "d7ea10b9",
   "metadata": {},
   "outputs": [],
   "source": [
    "df_new.plot.scatter(x='conf_year', y ='rating_int')"
   ]
  },
  {
   "cell_type": "markdown",
   "id": "708c41f8",
   "metadata": {},
   "source": [
    "# Brainstorm:\n",
    "\n",
    "What are some questions for the data that we can look through some suggestions:\n",
    "* Number of submissions by year\n",
    "* Length of review by year\n",
    "* Reviewer confidence by year\n",
    "* Topics by year"
   ]
  }
 ],
 "metadata": {
  "kernelspec": {
   "display_name": "Python 3 (ipykernel)",
   "language": "python",
   "name": "python3"
  },
  "language_info": {
   "codemirror_mode": {
    "name": "ipython",
    "version": 3
   },
   "file_extension": ".py",
   "mimetype": "text/x-python",
   "name": "python",
   "nbconvert_exporter": "python",
   "pygments_lexer": "ipython3",
   "version": "3.10.4"
  }
 },
 "nbformat": 4,
 "nbformat_minor": 5
}
