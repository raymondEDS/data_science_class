{
 "cells": [
  {
   "cell_type": "code",
   "execution_count": null,
   "id": "043d8517",
   "metadata": {},
   "outputs": [],
   "source": [
    "import pandas as pd\n",
    "import numpy as np\n",
    "import matplotlib.pyplot as plt\n",
    "import seaborn as sns\n",
    "import string\n",
    "from nltk.corpus import stopwords\n",
    "from nltk.tokenize import word_tokenize, sent_tokenize\n",
    "from wordcloud import WordCloud"
   ]
  },
  {
   "cell_type": "markdown",
   "id": "d3ada5ad",
   "metadata": {},
   "source": [
    "# Part 1 - Importing Data\n",
    "\n",
    "Import the data from the ./Data folder with csv health_kwic_25_fixed\n",
    "\n",
    "\"../data/health_kwic_25_fixed.csv\""
   ]
  },
  {
   "cell_type": "code",
   "execution_count": null,
   "id": "a4c54af8",
   "metadata": {},
   "outputs": [],
   "source": [
    "df_data = pd.read_csv(\"\")"
   ]
  },
  {
   "cell_type": "markdown",
   "id": "3b0dfd14",
   "metadata": {},
   "source": [
    "# Do some exploratory data analysis\n",
    "\n",
    "- Practice using .info()\n",
    "- Pratice using .describe()"
   ]
  },
  {
   "cell_type": "markdown",
   "id": "a437364b",
   "metadata": {},
   "source": []
  },
  {
   "cell_type": "markdown",
   "id": "45a6f43b",
   "metadata": {},
   "source": [
    "# Tokenize post column in dataframe\n",
    "\n",
    "- Use NTKL # Tokenizing the text\n",
    "- Example: df_rev_dec['tokens'] = df_rev_dec['clean_review_word'].apply(word_tokenize)\n",
    "- Then apply the token count df_rev_dec['tokens_counts'] = df_rev_dec['tokens'].apply(len)"
   ]
  },
  {
   "cell_type": "code",
   "execution_count": null,
   "id": "85aaf60b",
   "metadata": {},
   "outputs": [],
   "source": []
  },
  {
   "cell_type": "markdown",
   "id": "5b16e18a",
   "metadata": {},
   "source": [
    "# Creating histograms\n",
    "\n",
    "https://pandas.pydata.org/docs/reference/api/pandas.DataFrame.hist.html for reference\n",
    "\n",
    "- Create 2 histograms\n",
    "- 1: Create a histogram using the column \"pattern\" what do you notice?"
   ]
  },
  {
   "cell_type": "code",
   "execution_count": 1,
   "id": "fd4a08b4",
   "metadata": {},
   "outputs": [],
   "source": [
    "#Example:\n",
    "data = {'length': [1.5, 0.5, 1.2, 0.9, 3],\n",
    "        'width': [0.7, 0.2, 0.15, 0.2, 1.1]}\n",
    "index = ['pig', 'rabbit', 'duck', 'chicken', 'horse']\n",
    "df = pd.DataFrame(data, index=index)\n",
    "hist = df.hist(bins=3)"
   ]
  },
  {
   "cell_type": "markdown",
   "id": "dea138b5",
   "metadata": {},
   "source": [
    "- 2: Create a histogram using the column \"tokens_counts\" what do you notice?"
   ]
  },
  {
   "cell_type": "code",
   "execution_count": null,
   "id": "5ce602ee",
   "metadata": {},
   "outputs": [],
   "source": []
  }
 ],
 "metadata": {
  "kernelspec": {
   "display_name": "Python 3 (ipykernel)",
   "language": "python",
   "name": "python3"
  },
  "language_info": {
   "codemirror_mode": {
    "name": "ipython",
    "version": 3
   },
   "file_extension": ".py",
   "mimetype": "text/x-python",
   "name": "python",
   "nbconvert_exporter": "python",
   "pygments_lexer": "ipython3",
   "version": "3.10.4"
  }
 },
 "nbformat": 4,
 "nbformat_minor": 5
}
