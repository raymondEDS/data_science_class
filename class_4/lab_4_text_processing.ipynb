{
 "cells": [
  {
   "cell_type": "code",
   "execution_count": null,
   "id": "e9352af1",
   "metadata": {},
   "outputs": [],
   "source": [
    "import pandas as pd\n",
    "import numpy as np\n",
    "import matplotlib.pyplot as plt\n",
    "import seaborn as sns\n",
    "import string\n",
    "from nltk.corpus import stopwords\n",
    "from nltk.tokenize import word_tokenize, sent_tokenize\n",
    "from wordcloud import WordCloud"
   ]
  },
  {
   "cell_type": "code",
   "execution_count": null,
   "id": "50bc61f1",
   "metadata": {},
   "outputs": [],
   "source": [
    "df_reviews = pd.read_csv('../data/reviews.csv')\n",
    "df_submissions = pd.read_csv('../data/Submissions.csv')\n",
    "df_dec = pd.read_csv('../data/decision.csv')\n",
    "df_keyword = pd.read_csv('../data/submission_keyword.csv')"
   ]
  },
  {
   "cell_type": "code",
   "execution_count": null,
   "id": "cefb35e2",
   "metadata": {},
   "outputs": [],
   "source": [
    "df_submissions"
   ]
  },
  {
   "cell_type": "code",
   "execution_count": null,
   "id": "e13e4de3",
   "metadata": {},
   "outputs": [],
   "source": [
    "df_submissions.head()"
   ]
  },
  {
   "cell_type": "code",
   "execution_count": null,
   "id": "c1e3b647",
   "metadata": {},
   "outputs": [],
   "source": [
    "df_reviews.head()"
   ]
  },
  {
   "cell_type": "code",
   "execution_count": null,
   "id": "73593cd6",
   "metadata": {},
   "outputs": [],
   "source": [
    "df_dec.head()"
   ]
  },
  {
   "cell_type": "code",
   "execution_count": null,
   "id": "be966d72",
   "metadata": {},
   "outputs": [],
   "source": [
    "#get the average review score\n",
    "df_average_review_score = df_reviews.groupby('forum')['rating_int'].mean().reset_index()\n",
    "df_average_review_score"
   ]
  },
  {
   "cell_type": "markdown",
   "id": "1c240aa1",
   "metadata": {},
   "source": [
    "# Looking at Review Length and Score & Decision"
   ]
  },
  {
   "cell_type": "code",
   "execution_count": null,
   "id": "4475da08",
   "metadata": {},
   "outputs": [],
   "source": [
    "#Step 1 - Combine Review DF and Decision DF\n",
    "\n",
    "df_rev_dec = pd.merge(df_reviews, df_dec, left_on='forum', right_on='forum', how = 'inner')[['review','decision','conf_name_y','rating_int','forum']]\n",
    "\n",
    "df_rev_dec.head()"
   ]
  },
  {
   "cell_type": "markdown",
   "id": "ca9b9ebd",
   "metadata": {},
   "source": [
    "## Text Cleaning or Word Normalization"
   ]
  },
  {
   "cell_type": "code",
   "execution_count": null,
   "id": "f38f5972",
   "metadata": {},
   "outputs": [],
   "source": [
    "#case folding\n",
    "\n",
    "df_rev_dec['review'] = df_rev_dec['review'].str.lower()"
   ]
  },
  {
   "cell_type": "code",
   "execution_count": null,
   "id": "2c79bafb",
   "metadata": {},
   "outputs": [],
   "source": [
    "df_rev_dec['decision'].unique()"
   ]
  },
  {
   "cell_type": "code",
   "execution_count": null,
   "id": "7b859def",
   "metadata": {},
   "outputs": [],
   "source": [
    "#clean up decision text\n",
    "\n",
    "def clean_up_decision(text):\n",
    "    if text in ['Accept (Poster)','Accept (Spotlight)', 'Accept (Oral)','Accept (Talk)']:\n",
    "        return 'Accept'\n",
    "    else:\n",
    "        return text\n",
    "\n",
    "    \n",
    "df_rev_dec['decision_clean'] = df_rev_dec['decision'].apply(clean_up_decision) "
   ]
  },
  {
   "cell_type": "markdown",
   "id": "75db6d29",
   "metadata": {},
   "source": [
    "## Number of Sentences Per Review"
   ]
  },
  {
   "cell_type": "code",
   "execution_count": null,
   "id": "6799a751",
   "metadata": {},
   "outputs": [],
   "source": [
    "def sentence_count(text):\n",
    "    return len(sent_tokenize(text))\n",
    "\n",
    "\n",
    "df_rev_dec['sent_count'] = df_rev_dec['review'].apply(sentence_count)"
   ]
  },
  {
   "cell_type": "code",
   "execution_count": null,
   "id": "e2f7fd76",
   "metadata": {},
   "outputs": [],
   "source": [
    "df_rev_dec.head()"
   ]
  },
  {
   "cell_type": "code",
   "execution_count": null,
   "id": "13a3c105",
   "metadata": {},
   "outputs": [],
   "source": [
    "ax = sns.histplot(data=df_rev_dec, x='sent_count',\n",
    "                  y='rating_int',\n",
    "                  hue='decision_clean',\n",
    "                kde=True, \n",
    "                  log_scale=(True,False),\n",
    "                 legend=True)\n",
    "\n",
    "# Set axis labels\n",
    "ax.set(xlabel='Submission Length (# Sentences)', ylabel='Review Rating')\n",
    "\n",
    "# Move the legend outside the plot\n",
    "sns.move_legend(ax, \"upper left\", bbox_to_anchor=(1, 1))\n",
    "\n",
    "plt.tight_layout()\n",
    "plt.show()"
   ]
  },
  {
   "cell_type": "markdown",
   "id": "a06242b2",
   "metadata": {},
   "source": [
    "## Number of Tokens Per Review\n",
    "\n",
    "- Text Preprocessing: It converts raw text data into a structured format that can be easily processed by NLP algorithms and models.\n",
    "\n",
    "\n",
    "- Feature Extraction: Tokens serve as features or inputs for various NLP tasks, such as text classification, sentiment analysis, and machine translation.\n",
    "\n",
    "\n",
    "- Handling Out-of-Vocabulary (OOV) Words: Certain tokenization techniques, like subword tokenization, can handle previously unseen or rare words by breaking them down into smaller, meaningful units.\n",
    "\n",
    "\n",
    "- Language Understanding: Tokenization helps NLP models understand the structure and meaning of text by separating it into meaningful units."
   ]
  },
  {
   "cell_type": "code",
   "execution_count": null,
   "id": "91b8569b",
   "metadata": {},
   "outputs": [],
   "source": [
    "\n",
    "# Removing punctuation\n",
    "df_rev_dec['clean_review_word'] = df_rev_dec['review'].str.translate(str.maketrans('', '', string.punctuation))\n",
    "\n",
    "\n",
    "# Tokenizing the text\n",
    "df_rev_dec['tokens'] = df_rev_dec['clean_review_word'].apply(word_tokenize)\n",
    "\n",
    "\n",
    "# Removing stop words\n",
    "stop_words = set(stopwords.words('english'))\n",
    "df_rev_dec['tokens'] = df_rev_dec['tokens'].apply(lambda x: [word for word in x if word not in stop_words])\n",
    "df_rev_dec['tokens_counts'] = df_rev_dec['tokens'].apply(len)"
   ]
  },
  {
   "cell_type": "code",
   "execution_count": null,
   "id": "9611ccc2",
   "metadata": {},
   "outputs": [],
   "source": [
    "df_rev_dec['tokens_counts']"
   ]
  },
  {
   "cell_type": "code",
   "execution_count": null,
   "id": "62ed010f",
   "metadata": {},
   "outputs": [],
   "source": [
    "ax = sns.histplot(data=df_rev_dec, x='tokens_counts',\n",
    "                  y='rating_int',\n",
    "                  hue='decision_clean',\n",
    "                kde=True, \n",
    "                  log_scale=(True,False),\n",
    "                 legend=True)\n",
    "\n",
    "# Set axis labels\n",
    "ax.set(xlabel='Submission Length (# Tokens)', ylabel='Review Rating')\n",
    "\n",
    "# Move the legend outside the plot\n",
    "sns.move_legend(ax, \"upper left\", bbox_to_anchor=(1, 1))\n",
    "\n",
    "plt.tight_layout()\n",
    "plt.show()"
   ]
  },
  {
   "cell_type": "markdown",
   "id": "e7e61c02",
   "metadata": {},
   "source": [
    "## Average Token and Sentence Count"
   ]
  },
  {
   "cell_type": "code",
   "execution_count": null,
   "id": "866fe7c7",
   "metadata": {},
   "outputs": [],
   "source": [
    "df_rev_dec_ave = df_rev_dec.groupby(['forum','decision_clean'])[['rating_int','tokens_counts','sent_count']].mean().reset_index()"
   ]
  },
  {
   "cell_type": "code",
   "execution_count": null,
   "id": "431ecc18",
   "metadata": {},
   "outputs": [],
   "source": [
    "ax = sns.histplot(data=df_rev_dec_ave, x='tokens_counts',\n",
    "                  y='rating_int',\n",
    "                  hue='decision_clean',\n",
    "                kde=True, \n",
    "                  log_scale=(True,False),\n",
    "                 legend=True)\n",
    "\n",
    "# Set axis labels\n",
    "ax.set(xlabel='Submission Length (# Tokens)', ylabel='Review Rating')\n",
    "\n",
    "# Move the legend outside the plot\n",
    "sns.move_legend(ax, \"upper left\", bbox_to_anchor=(1, 1))\n",
    "\n",
    "plt.tight_layout()\n",
    "plt.show()"
   ]
  },
  {
   "cell_type": "code",
   "execution_count": null,
   "id": "5bdea2d0",
   "metadata": {},
   "outputs": [],
   "source": [
    "ax = sns.histplot(data=df_rev_dec_ave, x='sent_count',\n",
    "                  y='rating_int',\n",
    "                  hue='decision_clean',\n",
    "                kde=True, \n",
    "                  log_scale=(True,False),\n",
    "                 legend=True)\n",
    "\n",
    "# Set axis labels\n",
    "ax.set(xlabel='Submission Length (# Sentences)', ylabel='Review Rating')\n",
    "\n",
    "# Move the legend outside the plot\n",
    "sns.move_legend(ax, \"upper left\", bbox_to_anchor=(1, 1))\n",
    "\n",
    "plt.tight_layout()\n",
    "plt.show()"
   ]
  },
  {
   "cell_type": "code",
   "execution_count": null,
   "id": "a1a61b45",
   "metadata": {},
   "outputs": [],
   "source": [
    "# Concatenate text data\n",
    "text = ' '.join(df_rev_dec['clean_review_word'])\n",
    "\n",
    "# Generate word cloud\n",
    "wordcloud = WordCloud().generate(text)\n",
    "\n",
    "# Display word cloud\n",
    "plt.figure(figsize=(8, 6))\n",
    "plt.imshow(wordcloud, interpolation='bilinear')\n",
    "plt.axis('off')\n",
    "plt.show()"
   ]
  },
  {
   "cell_type": "code",
   "execution_count": null,
   "id": "388899dc",
   "metadata": {},
   "outputs": [],
   "source": [
    "# Concatenate text data\n",
    "text = ' '.join(df_keyword['primary_keyword'])\n",
    "\n",
    "# Generate word cloud\n",
    "wordcloud = WordCloud().generate(text)\n",
    "\n",
    "# Display word cloud\n",
    "plt.figure(figsize=(8, 6))\n",
    "plt.imshow(wordcloud, interpolation='bilinear')\n",
    "plt.axis('off')\n",
    "plt.show()"
   ]
  },
  {
   "cell_type": "code",
   "execution_count": null,
   "id": "e5ad6835",
   "metadata": {},
   "outputs": [],
   "source": [
    "# Concatenate text data\n",
    "text = ' '.join(df_submissions['abstract'])\n",
    "\n",
    "# Generate word cloud\n",
    "wordcloud = WordCloud().generate(text)\n",
    "\n",
    "# Display word cloud\n",
    "plt.figure(figsize=(8, 6))\n",
    "plt.imshow(wordcloud, interpolation='bilinear')\n",
    "plt.axis('off')\n",
    "plt.show()"
   ]
  }
 ],
 "metadata": {
  "kernelspec": {
   "display_name": "Python 3 (ipykernel)",
   "language": "python",
   "name": "python3"
  },
  "language_info": {
   "codemirror_mode": {
    "name": "ipython",
    "version": 3
   },
   "file_extension": ".py",
   "mimetype": "text/x-python",
   "name": "python",
   "nbconvert_exporter": "python",
   "pygments_lexer": "ipython3",
   "version": "3.10.4"
  }
 },
 "nbformat": 4,
 "nbformat_minor": 5
}
