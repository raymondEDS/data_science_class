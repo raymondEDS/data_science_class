{
 "cells": [
  {
   "cell_type": "code",
   "execution_count": 1,
   "id": "043d8517",
   "metadata": {},
   "outputs": [
    {
     "name": "stderr",
     "output_type": "stream",
     "text": [
      "/opt/anaconda3/envs/nlp/lib/python3.10/site-packages/scipy/__init__.py:155: UserWarning: A NumPy version >=1.18.5 and <1.26.0 is required for this version of SciPy (detected version 1.26.0\n",
      "  warnings.warn(f\"A NumPy version >={np_minversion} and <{np_maxversion}\"\n"
     ]
    }
   ],
   "source": [
    "import pandas as pd\n",
    "import numpy as np\n",
    "import matplotlib.pyplot as plt\n",
    "import seaborn as sns\n",
    "import string\n",
    "from nltk.corpus import stopwords\n",
    "from nltk.tokenize import word_tokenize, sent_tokenize\n",
    "from wordcloud import WordCloud"
   ]
  },
  {
   "cell_type": "markdown",
   "id": "d3ada5ad",
   "metadata": {},
   "source": [
    "# Part 1 - Importing Data\n",
    "\n",
    "Import the data from the ./Data folder with csv health_kwic_25_fixed\n",
    "\n",
    "\"../data/health_kwic_25_fixed.csv\""
   ]
  },
  {
   "cell_type": "code",
   "execution_count": 2,
   "id": "a4c54af8",
   "metadata": {},
   "outputs": [],
   "source": [
    "df_data = pd.read_csv(\"../data/health_kwic_25_fixed.csv\")"
   ]
  },
  {
   "cell_type": "markdown",
   "id": "3b0dfd14",
   "metadata": {},
   "source": [
    "# Do some exploratory data analysis\n",
    "\n",
    "- Practice using .info()\n",
    "- Pratice using .describe()"
   ]
  },
  {
   "cell_type": "code",
   "execution_count": 9,
   "id": "e434bccc",
   "metadata": {},
   "outputs": [
    {
     "name": "stdout",
     "output_type": "stream",
     "text": [
      "<class 'pandas.core.frame.DataFrame'>\n",
      "Index: 1171 entries, 0 to 1172\n",
      "Data columns (total 7 columns):\n",
      " #   Column   Non-Null Count  Dtype \n",
      "---  ------   --------------  ----- \n",
      " 0   docname  1171 non-null   object\n",
      " 1   from     1171 non-null   int64 \n",
      " 2   to       1171 non-null   int64 \n",
      " 3   pre      1171 non-null   object\n",
      " 4   keyword  1171 non-null   object\n",
      " 5   post     1171 non-null   object\n",
      " 6   pattern  1171 non-null   object\n",
      "dtypes: int64(2), object(5)\n",
      "memory usage: 73.2+ KB\n"
     ]
    }
   ],
   "source": [
    "df_data.info()"
   ]
  },
  {
   "cell_type": "code",
   "execution_count": 4,
   "id": "e36f2446",
   "metadata": {},
   "outputs": [
    {
     "data": {
      "text/html": [
       "<div>\n",
       "<style scoped>\n",
       "    .dataframe tbody tr th:only-of-type {\n",
       "        vertical-align: middle;\n",
       "    }\n",
       "\n",
       "    .dataframe tbody tr th {\n",
       "        vertical-align: top;\n",
       "    }\n",
       "\n",
       "    .dataframe thead th {\n",
       "        text-align: right;\n",
       "    }\n",
       "</style>\n",
       "<table border=\"1\" class=\"dataframe\">\n",
       "  <thead>\n",
       "    <tr style=\"text-align: right;\">\n",
       "      <th></th>\n",
       "      <th>from</th>\n",
       "      <th>to</th>\n",
       "    </tr>\n",
       "  </thead>\n",
       "  <tbody>\n",
       "    <tr>\n",
       "      <th>count</th>\n",
       "      <td>1173.000000</td>\n",
       "      <td>1173.000000</td>\n",
       "    </tr>\n",
       "    <tr>\n",
       "      <th>mean</th>\n",
       "      <td>2225.494459</td>\n",
       "      <td>2225.494459</td>\n",
       "    </tr>\n",
       "    <tr>\n",
       "      <th>std</th>\n",
       "      <td>1546.554139</td>\n",
       "      <td>1546.554139</td>\n",
       "    </tr>\n",
       "    <tr>\n",
       "      <th>min</th>\n",
       "      <td>41.000000</td>\n",
       "      <td>41.000000</td>\n",
       "    </tr>\n",
       "    <tr>\n",
       "      <th>25%</th>\n",
       "      <td>993.000000</td>\n",
       "      <td>993.000000</td>\n",
       "    </tr>\n",
       "    <tr>\n",
       "      <th>50%</th>\n",
       "      <td>1853.000000</td>\n",
       "      <td>1853.000000</td>\n",
       "    </tr>\n",
       "    <tr>\n",
       "      <th>75%</th>\n",
       "      <td>3260.000000</td>\n",
       "      <td>3260.000000</td>\n",
       "    </tr>\n",
       "    <tr>\n",
       "      <th>max</th>\n",
       "      <td>7284.000000</td>\n",
       "      <td>7284.000000</td>\n",
       "    </tr>\n",
       "  </tbody>\n",
       "</table>\n",
       "</div>"
      ],
      "text/plain": [
       "              from           to\n",
       "count  1173.000000  1173.000000\n",
       "mean   2225.494459  2225.494459\n",
       "std    1546.554139  1546.554139\n",
       "min      41.000000    41.000000\n",
       "25%     993.000000   993.000000\n",
       "50%    1853.000000  1853.000000\n",
       "75%    3260.000000  3260.000000\n",
       "max    7284.000000  7284.000000"
      ]
     },
     "execution_count": 4,
     "metadata": {},
     "output_type": "execute_result"
    }
   ],
   "source": [
    "df_data.describe()"
   ]
  },
  {
   "cell_type": "code",
   "execution_count": 5,
   "id": "3a2ec7aa",
   "metadata": {},
   "outputs": [
    {
     "data": {
      "text/html": [
       "<div>\n",
       "<style scoped>\n",
       "    .dataframe tbody tr th:only-of-type {\n",
       "        vertical-align: middle;\n",
       "    }\n",
       "\n",
       "    .dataframe tbody tr th {\n",
       "        vertical-align: top;\n",
       "    }\n",
       "\n",
       "    .dataframe thead th {\n",
       "        text-align: right;\n",
       "    }\n",
       "</style>\n",
       "<table border=\"1\" class=\"dataframe\">\n",
       "  <thead>\n",
       "    <tr style=\"text-align: right;\">\n",
       "      <th></th>\n",
       "      <th>docname</th>\n",
       "      <th>from</th>\n",
       "      <th>to</th>\n",
       "      <th>pre</th>\n",
       "      <th>keyword</th>\n",
       "      <th>post</th>\n",
       "      <th>pattern</th>\n",
       "    </tr>\n",
       "  </thead>\n",
       "  <tbody>\n",
       "    <tr>\n",
       "      <th>0</th>\n",
       "      <td>AFG</td>\n",
       "      <td>354</td>\n",
       "      <td>354</td>\n",
       "      <td>parts government giroa mainstream environmenta...</td>\n",
       "      <td>health</td>\n",
       "      <td>education infrastructure economy provision imp...</td>\n",
       "      <td>health</td>\n",
       "    </tr>\n",
       "    <tr>\n",
       "      <th>1</th>\n",
       "      <td>AFG</td>\n",
       "      <td>705</td>\n",
       "      <td>705</td>\n",
       "      <td>combination overall increase related increase ...</td>\n",
       "      <td>diseases</td>\n",
       "      <td>presenting considerable health risks urban rur...</td>\n",
       "      <td>health</td>\n",
       "    </tr>\n",
       "    <tr>\n",
       "      <th>2</th>\n",
       "      <td>AFG</td>\n",
       "      <td>708</td>\n",
       "      <td>708</td>\n",
       "      <td>related increase evapotranspiration country li...</td>\n",
       "      <td>health</td>\n",
       "      <td>risks urban rural populations aforementioned c...</td>\n",
       "      <td>health</td>\n",
       "    </tr>\n",
       "    <tr>\n",
       "      <th>3</th>\n",
       "      <td>AND</td>\n",
       "      <td>678</td>\n",
       "      <td>678</td>\n",
       "      <td>values annual precipitation drop least mm deca...</td>\n",
       "      <td>health</td>\n",
       "      <td>natural production hydroelectricity agricultur...</td>\n",
       "      <td>health</td>\n",
       "    </tr>\n",
       "    <tr>\n",
       "      <th>4</th>\n",
       "      <td>AND</td>\n",
       "      <td>767</td>\n",
       "      <td>767</td>\n",
       "      <td>short term results nationally determined plann...</td>\n",
       "      <td>medical</td>\n",
       "      <td>transport mountain work value become tonnes re...</td>\n",
       "      <td>health</td>\n",
       "    </tr>\n",
       "  </tbody>\n",
       "</table>\n",
       "</div>"
      ],
      "text/plain": [
       "  docname  from   to                                                pre  \\\n",
       "0     AFG   354  354  parts government giroa mainstream environmenta...   \n",
       "1     AFG   705  705  combination overall increase related increase ...   \n",
       "2     AFG   708  708  related increase evapotranspiration country li...   \n",
       "3     AND   678  678  values annual precipitation drop least mm deca...   \n",
       "4     AND   767  767  short term results nationally determined plann...   \n",
       "\n",
       "    keyword                                               post pattern  \n",
       "0    health  education infrastructure economy provision imp...  health  \n",
       "1  diseases  presenting considerable health risks urban rur...  health  \n",
       "2    health  risks urban rural populations aforementioned c...  health  \n",
       "3    health  natural production hydroelectricity agricultur...  health  \n",
       "4   medical  transport mountain work value become tonnes re...  health  "
      ]
     },
     "execution_count": 5,
     "metadata": {},
     "output_type": "execute_result"
    }
   ],
   "source": [
    "df_data.head()"
   ]
  },
  {
   "cell_type": "code",
   "execution_count": 8,
   "id": "d9742b72",
   "metadata": {},
   "outputs": [],
   "source": [
    "df_data = df_data.dropna()"
   ]
  },
  {
   "cell_type": "markdown",
   "id": "45a6f43b",
   "metadata": {},
   "source": [
    "# Tokenize post column in dataframe\n",
    "\n",
    "- Use NTKL # Tokenizing the text\n",
    "- Example: df_rev_dec['tokens'] = df_rev_dec['clean_review_word'].apply(word_tokenize)\n",
    "- Then apply the token count df_rev_dec['tokens_counts'] = df_rev_dec['tokens'].apply(len)"
   ]
  },
  {
   "cell_type": "code",
   "execution_count": 10,
   "id": "85aaf60b",
   "metadata": {},
   "outputs": [],
   "source": [
    "df_data['tokens'] = df_data['post'].apply(word_tokenize)"
   ]
  },
  {
   "cell_type": "markdown",
   "id": "5b16e18a",
   "metadata": {},
   "source": [
    "# Creating histograms\n",
    "\n",
    "https://pandas.pydata.org/docs/reference/api/pandas.DataFrame.hist.html for reference\n",
    "\n",
    "- Create 2 histograms\n",
    "- 1: Create a histogram using the column \"pattern\" what do you notice?"
   ]
  },
  {
   "cell_type": "code",
   "execution_count": 1,
   "id": "fd4a08b4",
   "metadata": {},
   "outputs": [],
   "source": [
    "#Example:\n",
    "data = {'length': [1.5, 0.5, 1.2, 0.9, 3],\n",
    "        'width': [0.7, 0.2, 0.15, 0.2, 1.1]}\n",
    "index = ['pig', 'rabbit', 'duck', 'chicken', 'horse']\n",
    "df = pd.DataFrame(data, index=index)\n",
    "hist = df.hist(bins=3)"
   ]
  },
  {
   "cell_type": "markdown",
   "id": "dea138b5",
   "metadata": {},
   "source": [
    "- 2: Create a histogram using the column \"tokens_counts\" what do you notice?"
   ]
  },
  {
   "cell_type": "code",
   "execution_count": null,
   "id": "5ce602ee",
   "metadata": {},
   "outputs": [],
   "source": []
  }
 ],
 "metadata": {
  "kernelspec": {
   "display_name": "Python 3 (ipykernel)",
   "language": "python",
   "name": "python3"
  },
  "language_info": {
   "codemirror_mode": {
    "name": "ipython",
    "version": 3
   },
   "file_extension": ".py",
   "mimetype": "text/x-python",
   "name": "python",
   "nbconvert_exporter": "python",
   "pygments_lexer": "ipython3",
   "version": "3.10.4"
  }
 },
 "nbformat": 4,
 "nbformat_minor": 5
}
