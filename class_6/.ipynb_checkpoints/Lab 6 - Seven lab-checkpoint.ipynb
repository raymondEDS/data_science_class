{
 "cells": [
  {
   "cell_type": "code",
   "execution_count": null,
   "id": "5036c13e",
   "metadata": {},
   "outputs": [],
   "source": [
    "import numpy as np\n",
    "import pandas as pd\n",
    "import scipy.stats as stats\n",
    "import matplotlib.pyplot as plt\n",
    "import sklearn\n",
    "from nltk.tokenize import word_tokenize\n",
    "import statsmodels.api as sm\n",
    "from statsmodels.formula.api import ols\n",
    "\n",
    "import seaborn as sns\n",
    "sns.set_style(\"whitegrid\")\n",
    "sns.set_context(\"poster\")\n",
    "\n",
    "# special matplotlib argument for improved plots\n",
    "from matplotlib import rcParams"
   ]
  },
  {
   "cell_type": "code",
   "execution_count": null,
   "id": "2f3f5e66",
   "metadata": {},
   "outputs": [],
   "source": [
    "def regression_graph(y,x,df,title):\n",
    "\n",
    "    # Set the aesthetic style of the plots\n",
    "    sns.set(style=\"whitegrid\")\n",
    "\n",
    "    # Create a regression plot\n",
    "    plt.figure(figsize=(10, 6))\n",
    "    sns.regplot(y=y, x=x, data=df, fit_reg=True, \n",
    "                scatter_kws={'s': 50, 'alpha': 0.6, 'color': 'b'}, \n",
    "                line_kws={'color': 'red', 'linewidth': 2})\n",
    "\n",
    "    # Customize the plot with titles and labels\n",
    "    plt.title(title, fontsize=20)\n",
    "\n",
    "    # Customize the ticks on the axes\n",
    "    plt.xticks(fontsize=12)\n",
    "    plt.yticks(fontsize=12)\n",
    "\n",
    "    # Show grid\n",
    "    plt.grid(True, linestyle='--', alpha=0.7)\n",
    "\n",
    "    # Show the plot\n",
    "    plt.show()"
   ]
  },
  {
   "cell_type": "code",
   "execution_count": null,
   "id": "2c8bcc2d",
   "metadata": {},
   "outputs": [],
   "source": [
    "df_reviews = pd.read_csv('../data/reviews.csv')\n",
    "df_submissions = pd.read_csv('../data/Submissions.csv')\n",
    "df_dec = pd.read_csv('../data/decision.csv')\n",
    "df_keyword = pd.read_csv('../data/submission_keyword.csv')\n",
    "\n",
    "df_rs = pd.merge(df_reviews[['rating_int','confidence_int','review','forum']], df_submissions[['abstract','id','conf_year']], left_on='forum', right_on='id', how = 'inner')\n",
    "df_rs['review'] = df_rs['review'].str.lower()\n",
    "df_rs['abstract'] = df_rs['abstract'].str.lower()\n",
    "df_rs['review_tokens'] = df_rs['review'].apply(word_tokenize)\n",
    "df_rs['review_num_tokens'] = df_rs['review_tokens'].apply(len)\n",
    "\n",
    "df_data = pd.merge(df_rs, df_dec, left_on='forum', right_on='forum', how = 'inner').drop([\n",
    "                                                         'id_x',\n",
    "                                                         'id_y',\n",
    "                                                         'tcdate',\n",
    "                                                         'tmdate',\n",
    "                                                         'number',\n",
    "                                                         'confidence'],axis = 1)\n",
    "\n",
    "df_data"
   ]
  },
  {
   "cell_type": "code",
   "execution_count": null,
   "id": "723e66ec",
   "metadata": {},
   "outputs": [],
   "source": [
    "df_data = pd.merge(df_rs, df_dec, left_on='forum', right_on='forum', how = 'inner').drop([\n",
    "                                                         'id_x',\n",
    "                                                         'id_y',\n",
    "                                                         'tcdate',\n",
    "                                                         'tmdate',\n",
    "                                                         'number',\n",
    "                                                         'confidence'],axis = 1)\n",
    "\n",
    "df_data"
   ]
  },
  {
   "cell_type": "markdown",
   "id": "0e4917be",
   "metadata": {},
   "source": [
    "# Exploratory data analysis.\n",
    "\n",
    "Please describe the data set in your paper. How many rows of data? What are the descriptive statics? What does this say about the data?\n",
    "\n",
    "What rows will you be dropping in order to eliminate NANs? "
   ]
  },
  {
   "cell_type": "code",
   "execution_count": null,
   "id": "b3bedec3",
   "metadata": {},
   "outputs": [],
   "source": [
    "df_data.describe()"
   ]
  },
  {
   "cell_type": "markdown",
   "id": "dfd85068",
   "metadata": {},
   "source": [
    "# Correlation matrix\n",
    "\n",
    "Use the pandas .corr method to look at potential correlations between variables. Answer the following questions:\n",
    "\n",
    "1) What variables are heavily correlated?\n",
    "2) Why do you think they are correlated?\n",
    "\n",
    "https://pandas.pydata.org/docs/reference/api/pandas.DataFrame.corr.html"
   ]
  },
  {
   "cell_type": "code",
   "execution_count": null,
   "id": "cb667049",
   "metadata": {},
   "outputs": [],
   "source": [
    "#write your code here\n",
    "#hint you may have to use the numeric_only parameter\n",
    "\n",
    "\n"
   ]
  },
  {
   "cell_type": "markdown",
   "id": "4b444eb0",
   "metadata": {},
   "source": [
    "# Potential research questions:\n",
    "\n",
    "Given that your paper is about how peer review is meant to preserve fairness in the review process. We will look at the following research questions.\n",
    "\n",
    "1) Given that the conference has increase in submissions each year this means there will be more reviewers each year. Does the increase number of reviewers decrease the quality of reviews?\n",
    "\n",
    "2) Does reviewer confidence affect review scoring?\n",
    "\n",
    "3) What factors affect review outcome?"
   ]
  },
  {
   "cell_type": "markdown",
   "id": "1bd33bf1",
   "metadata": {},
   "source": [
    "# Regression Lab\n",
    "\n",
    "Investigate the following relationships:\n",
    "1) Reviewer score and Review Confidence\n",
    "2) Review Length and Review Score\n",
    "3) Review Length and Review Confidence\n",
    "\n",
    "3) Review score + Conference Year ~ Accept/Reject\n",
    "4) Conference Year ~ Review Confidence\n"
   ]
  },
  {
   "cell_type": "code",
   "execution_count": null,
   "id": "2871994f",
   "metadata": {},
   "outputs": [],
   "source": [
    "#example code\n",
    "m = ols('rating_int ~ confidence_int',df_data).fit()\n",
    "m.summary()"
   ]
  },
  {
   "cell_type": "code",
   "execution_count": null,
   "id": "d85d2f66",
   "metadata": {},
   "outputs": [],
   "source": [
    "# your code here"
   ]
  },
  {
   "cell_type": "markdown",
   "id": "cfb71695",
   "metadata": {},
   "source": [
    "# Produce a graph\n",
    "\n",
    "Using the graph function below, produce a graph of the 3 top relationships you have found. Describe the graph in your paper including the summary information from m.summary() from above.\n",
    "\n",
    "What can you conclude?"
   ]
  },
  {
   "cell_type": "code",
   "execution_count": null,
   "id": "ba919c73",
   "metadata": {},
   "outputs": [],
   "source": [
    "#example\n",
    "regression_graph('rating_int','confidence_int',df_data,'Rating vs Confidence')"
   ]
  },
  {
   "cell_type": "code",
   "execution_count": null,
   "id": "b1e84c67",
   "metadata": {},
   "outputs": [],
   "source": [
    "# your code here"
   ]
  }
 ],
 "metadata": {
  "kernelspec": {
   "display_name": "Python 3 (ipykernel)",
   "language": "python",
   "name": "python3"
  },
  "language_info": {
   "codemirror_mode": {
    "name": "ipython",
    "version": 3
   },
   "file_extension": ".py",
   "mimetype": "text/x-python",
   "name": "python",
   "nbconvert_exporter": "python",
   "pygments_lexer": "ipython3",
   "version": "3.10.4"
  }
 },
 "nbformat": 4,
 "nbformat_minor": 5
}
